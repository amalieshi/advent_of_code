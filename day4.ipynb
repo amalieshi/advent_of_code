{
 "cells": [
  {
   "cell_type": "code",
   "execution_count": null,
   "metadata": {},
   "outputs": [],
   "source": []
  }
 ],
 "metadata": {
  "kernelspec": {
   "display_name": "Python 3.9.13",
   "language": "python",
   "name": "python3"
  },
  "language_info": {
   "name": "python",
   "version": "3.9.13"
  },
  "orig_nbformat": 4,
  "vscode": {
   "interpreter": {
    "hash": "a107c93bee97c3b06097f2a261d9840af96c3ccc2aee642587e32a4a4fcf58d7"
   }
  }
 },
 "nbformat": 4,
 "nbformat_minor": 2
}
